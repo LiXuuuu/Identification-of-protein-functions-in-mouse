{
 "cells": [
  {
   "cell_type": "code",
   "execution_count": null,
   "source": [
    "from chemocommons import * # https://github.com/dqwei-lab/ATC\r\n",
    "import scipy.io as scio\r\n",
    "import scipy.stats as ss\r\n",
    "from skmultilearn.cluster.networkx import NetworkXLabelGraphClusterer\r\n",
    "from skmultilearn.cluster import LabelCooccurrenceGraphBuilder\r\n",
    "from skmultilearn.ensemble import LabelSpacePartitioningClassifier\r\n",
    "from skmultilearn.problem_transform import ClassifierChain, LabelPowerset\r\n",
    "from sklearn.ensemble import RandomForestClassifier, ExtraTreesClassifier\r\n",
    "from sklearn.model_selection import LeaveOneOut\r\n",
    "from sklearn.metrics import jaccard_score\r\n",
    "import pandas as pd\r\n",
    "import numpy as np\r\n",
    "# import community as community_louvain\r\n",
    "import matplotlib.cm as cm\r\n",
    "import matplotlib.pyplot as plt\r\n",
    "import networkx as nx\r\n",
    "import community_louvain # https://github.com/taynaud/python-louvain\r\n",
    "import seaborn as sns; sns.set()"
   ],
   "outputs": [],
   "metadata": {}
  },
  {
   "cell_type": "code",
   "execution_count": null,
   "source": [
    "data = pd.read_csv('../input/Function of Protein.csv')\r\n",
    "data = data.iloc[:,1:]\r\n",
    "data"
   ],
   "outputs": [],
   "metadata": {}
  },
  {
   "cell_type": "code",
   "execution_count": null,
   "source": [
    "correlation_matrix = np.zeros(shape=(data.shape[1], data.shape[1]))\r\n",
    "correlation_matrix.shape"
   ],
   "outputs": [],
   "metadata": {}
  },
  {
   "cell_type": "code",
   "execution_count": null,
   "source": [
    "def cramers_corrected_stat(confusion_matrix):\r\n",
    "    \"\"\" calculate Cramers V statistic for categorial-categorial association.\r\n",
    "        uses correction from Bergsma and Wicher, \r\n",
    "        Journal of the Korean Statistical Society 42 (2013): 323-328\r\n",
    "    \"\"\"\r\n",
    "    chi2 = ss.chi2_contingency(confusion_matrix)[0]   # 进行卡方检验\r\n",
    "    n = confusion_matrix.sum()\r\n",
    "    phi2 = list(chi2/n)\r\n",
    "    r,k = confusion_matrix.shape\r\n",
    "    value = 1/(n-1)\r\n",
    "    maxer = max(phi2)\r\n",
    "    phi2corr = max(0,max(phi2-value))\r\n",
    "\r\n",
    "    rcorr = r - ((r-1)**2)/(n-1)    # r修正\r\n",
    "    kcorr = k - ((k-1)**2)/(n-1)    # c修正\r\n",
    "    miner = min(min(rcorr),min(rcorr))\r\n",
    "    return np.sqrt(phi2corr / (miner-1))"
   ],
   "outputs": [],
   "metadata": {}
  },
  {
   "cell_type": "code",
   "execution_count": null,
   "source": [
    "correlation_matrix = np.zeros(shape=(24, 24))\r\n",
    "for i in range(24):\r\n",
    "    for j in range(24):\r\n",
    "        confusion_matrix = pd.crosstab(data.iloc[:, i], data.iloc[:, j])\r\n",
    "        correlation_matrix[i, j] = cramers_corrected_stat(confusion_matrix)\r\n",
    "        \r\n",
    "for i in range(correlation_matrix.shape[1]):\r\n",
    "    correlation_matrix[:,i] = correlation_matrix[:,i]/correlation_matrix[i,i]"
   ],
   "outputs": [],
   "metadata": {}
  },
  {
   "cell_type": "code",
   "execution_count": null,
   "source": [
    "correlation_matrix = pd.DataFrame(correlation_matrix)\r\n",
    "correlation_matrix.columns = data.columns\r\n",
    "correlation_matrix.index = data.columns\r\n",
    "# correlation_matrix.to_csv('../output/Crames_V.csv')"
   ],
   "outputs": [],
   "metadata": {}
  },
  {
   "cell_type": "code",
   "execution_count": null,
   "source": [
    "plt.figure(figsize=(20,20))\r\n",
    "sns.heatmap(correlation_matrix,linewidths=3, annot=True, vmax=0.4)"
   ],
   "outputs": [],
   "metadata": {}
  },
  {
   "cell_type": "code",
   "execution_count": null,
   "source": [
    "correlation_matrix = pd.read_csv('../output/Crames_V.csv')"
   ],
   "outputs": [],
   "metadata": {}
  },
  {
   "cell_type": "code",
   "execution_count": null,
   "source": [
    "G = nx.Graph()\r\n",
    "all_member = set(range(1,25))\r\n",
    "G.name  = 'Mouse Protein'"
   ],
   "outputs": [],
   "metadata": {}
  },
  {
   "cell_type": "code",
   "execution_count": null,
   "source": [
    "gramerVdat = correlation_matrix.values\r\n",
    "for i in range(gramerVdat.shape[0]):\r\n",
    "    gramerVdat[i,i] = 0\r\n",
    "gramerVdat"
   ],
   "outputs": [],
   "metadata": {}
  },
  {
   "cell_type": "code",
   "execution_count": null,
   "source": [
    "for i in range(gramerVdat.shape[0]):\r\n",
    "    for j in range(i+1,gramerVdat.shape[0]):\r\n",
    "        if gramerVdat[i,j]!=0:\r\n",
    "            G.add_edge(str(i+1),str(j+1),weight = gramerVdat[i,j])"
   ],
   "outputs": [],
   "metadata": {}
  },
  {
   "cell_type": "code",
   "execution_count": null,
   "source": [
    "partition = community_louvain.best_partition(G)\r\n",
    "print('final_partion:',partition)"
   ],
   "outputs": [],
   "metadata": {}
  }
 ],
 "metadata": {
  "interpreter": {
   "hash": "a395a0ec688739f9a281ed875adcc91b94080eef9e1d96fe7ac579ce831d64ae"
  },
  "kernelspec": {
   "name": "python3",
   "display_name": "Python 3.7.11 64-bit ('rdkit': conda)"
  },
  "language_info": {
   "codemirror_mode": {
    "name": "ipython",
    "version": 3
   },
   "file_extension": ".py",
   "mimetype": "text/x-python",
   "name": "python",
   "nbconvert_exporter": "python",
   "pygments_lexer": "ipython3",
   "version": "3.7.11"
  },
  "toc": {
   "base_numbering": 1,
   "nav_menu": {},
   "number_sections": true,
   "sideBar": true,
   "skip_h1_title": false,
   "title_cell": "Table of Contents",
   "title_sidebar": "Contents",
   "toc_cell": false,
   "toc_position": {},
   "toc_section_display": true,
   "toc_window_display": false
  },
  "varInspector": {
   "cols": {
    "lenName": 16,
    "lenType": 16,
    "lenVar": 40
   },
   "kernels_config": {
    "python": {
     "delete_cmd_postfix": "",
     "delete_cmd_prefix": "del ",
     "library": "var_list.py",
     "varRefreshCmd": "print(var_dic_list())"
    },
    "r": {
     "delete_cmd_postfix": ") ",
     "delete_cmd_prefix": "rm(",
     "library": "var_list.r",
     "varRefreshCmd": "cat(var_dic_list()) "
    }
   },
   "types_to_exclude": [
    "module",
    "function",
    "builtin_function_or_method",
    "instance",
    "_Feature"
   ],
   "window_display": true
  }
 },
 "nbformat": 4,
 "nbformat_minor": 4
}