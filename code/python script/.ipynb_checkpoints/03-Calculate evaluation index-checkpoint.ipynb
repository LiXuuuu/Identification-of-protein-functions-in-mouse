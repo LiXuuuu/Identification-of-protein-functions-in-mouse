{
 "cells": [
  {
   "cell_type": "code",
   "execution_count": 1,
   "metadata": {},
   "outputs": [],
   "source": [
    "from sklearn.metrics import hamming_loss\n",
    "import numpy as np\n",
    "import pandas as pd\n",
    "import os\n",
    "import re"
   ]
  },
  {
   "cell_type": "code",
   "execution_count": 4,
   "metadata": {},
   "outputs": [],
   "source": [
    "com0 = [7,8,10,21,9,4,2,1,3,6,17,13,5,11]\n",
    "com1 = [12,22,23,24,14]\n",
    "com2 = [15,16,19,20,18]"
   ]
  },
  {
   "cell_type": "code",
   "execution_count": 385,
   "metadata": {},
   "outputs": [],
   "source": [
    "ran = 'random06'"
   ]
  },
  {
   "cell_type": "code",
   "execution_count": 386,
   "metadata": {},
   "outputs": [],
   "source": [
    "par0_files = 'F:\\\\pre\\\\1\\\\random\\\\dim300\\\\'+ ran +'\\\\par0_res'\n",
    "par1_files = 'F:\\\\pre\\\\1\\\\random\\\\dim300\\\\'+ ran +'\\\\par1_res'\n",
    "par2_files = 'F:\\\\pre\\\\1\\\\random\\\\dim300\\\\'+ ran +'\\\\par2_res'"
   ]
  },
  {
   "cell_type": "code",
   "execution_count": 387,
   "metadata": {},
   "outputs": [],
   "source": [
    "par0_files_path = []\n",
    "par1_files_path = []\n",
    "par2_files_path = []"
   ]
  },
  {
   "cell_type": "code",
   "execution_count": 388,
   "metadata": {},
   "outputs": [],
   "source": [
    "files = os.listdir(par0_files)\n",
    "for filename in files:\n",
    "    par0_files_path.append(filename)\n",
    "files = os.listdir(par1_files)\n",
    "for filename in files:\n",
    "    par1_files_path.append(filename)\n",
    "files = os.listdir(par1_files)\n",
    "for filename in files:\n",
    "    par2_files_path.append(filename)"
   ]
  },
  {
   "cell_type": "code",
   "execution_count": 389,
   "metadata": {},
   "outputs": [],
   "source": [
    "# print(len(par0_files_path))\n",
    "# print(par1_files_path)\n",
    "# print(par2_files_path)\n",
    "for i in range(len(par0_files_path)):\n",
    "    if(par0_files_path[i] != par1_files_path[i]):\n",
    "        print('not same')\n",
    "        break\n",
    "for i in range(len(par0_files_path)):\n",
    "    if(par2_files_path[i] != par1_files_path[i]):\n",
    "        print('not same')\n",
    "        break"
   ]
  },
  {
   "cell_type": "markdown",
   "metadata": {},
   "source": [
    "### 计算Exact match"
   ]
  },
  {
   "cell_type": "code",
   "execution_count": 390,
   "metadata": {},
   "outputs": [],
   "source": [
    "def get_exactMatch(true_lists,pre_lists):\n",
    "    count = 0\n",
    "    for i in range(len(true_lists)):\n",
    "        if(true_lists[i] == pre_lists[i]):\n",
    "            count += 1\n",
    "    return count/len(true_lists)"
   ]
  },
  {
   "cell_type": "markdown",
   "metadata": {},
   "source": [
    "### 计算Accuracy"
   ]
  },
  {
   "cell_type": "code",
   "execution_count": 391,
   "metadata": {},
   "outputs": [],
   "source": [
    "def get_accuracy(true_lists,pre_lists):\n",
    "    per_sum = 0\n",
    "    for i in range(len(true_lists)):\n",
    "        count = 0\n",
    "        for pre_label in pre_lists[i]:\n",
    "            if pre_label in true_lists[i]:\n",
    "                count += 1\n",
    "        if len(true_lists[i]) == 0 and len(pre_lists[i]) == 0 :\n",
    "            per_sum += 1\n",
    "        else:\n",
    "            per_sum += (count/len(set(true_lists[i] + pre_lists[i])))\n",
    "    return per_sum/len(true_lists)"
   ]
  },
  {
   "cell_type": "code",
   "execution_count": 392,
   "metadata": {
    "scrolled": true
   },
   "outputs": [
    {
     "name": "stdout",
     "output_type": "stream",
     "text": [
      "True\n",
      "1 / 1\n"
     ]
    }
   ],
   "source": [
    "start = 3\n",
    "end = 9651\n",
    "count = 1\n",
    "for i in range(len(par0_files_path)):\n",
    "    par0_file_path = par0_files + '\\\\' + par0_files_path[i]\n",
    "    par1_file_path = par1_files + '\\\\' + par1_files_path[i]\n",
    "    par2_file_path = par2_files + '\\\\' + par2_files_path[i]\n",
    "    print(par0_files_path[i] == par1_files_path[i] and par1_files_path[i] == par2_files_path[i])\n",
    "    text = []\n",
    "    pattern = re.compile(r'\\$.*\\$')\n",
    "    true_lists = []\n",
    "    pre_lists = []\n",
    "    with open(par0_file_path) as f:\n",
    "#         print(par0_file_path)\n",
    "        num = 0\n",
    "        for line in f:\n",
    "            num+=1\n",
    "            if num<end and num > start:\n",
    "                line = line.replace(' ','')\n",
    "                line = line.replace('|','')\n",
    "                line = line.replace('\\n','')\n",
    "                line = line.replace('][','$')\n",
    "                line = line.replace('[','$')\n",
    "                line = line.replace(']','$')\n",
    "                line = line.replace(',',' ')\n",
    "#                 print(line)\n",
    "                true_list = pattern.search(line).group().split('$')[1:3][0]\n",
    "                pre_list = pattern.search(line).group().split('$')[1:3][1]\n",
    "                true_list = true_list.split(' ')\n",
    "                pre_list = pre_list.split(' ')\n",
    "                if(true_list[0]!=''):\n",
    "                    true_list = [int(i) for i in true_list]\n",
    "                    true_list = [com0[i] for i in true_list]\n",
    "                else:\n",
    "                    true_list = []\n",
    "                if(pre_list[0]!=''):\n",
    "                    pre_list = [int(i) for i in pre_list]\n",
    "                    pre_list = [com0[i] for i in pre_list]\n",
    "                else:\n",
    "                    pre_list = []\n",
    "#                 print(true_list,pre_list)\n",
    "                true_lists.append(true_list)\n",
    "                pre_lists.append(pre_list)\n",
    "    with open(par1_file_path) as f:\n",
    "        num=0\n",
    "        k=0\n",
    "        for line in f:\n",
    "            num+=1\n",
    "            if num<end and num > start:\n",
    "                line = line.replace(' ','')\n",
    "                line = line.replace('|','')\n",
    "                line = line.replace('\\n','')\n",
    "                line = line.replace('][','$')\n",
    "                line = line.replace('[','$')\n",
    "                line = line.replace(']','$')\n",
    "                line = line.replace(',',' ')\n",
    "#                 print(line)\n",
    "                true_list = pattern.search(line).group().split('$')[1:3][0]\n",
    "                pre_list = pattern.search(line).group().split('$')[1:3][1]\n",
    "                true_list = true_list.split(' ')\n",
    "                pre_list = pre_list.split(' ')\n",
    "                if(true_list[0]!=''):\n",
    "                    true_list = [int(i) for i in true_list]\n",
    "                    true_list = [com1[i] for i in true_list]\n",
    "                else:\n",
    "                    true_list = []\n",
    "                if(pre_list[0]!=''):\n",
    "                    pre_list = [int(i) for i in pre_list]\n",
    "                    pre_list = [com1[i] for i in pre_list]\n",
    "                else:\n",
    "                    pre_list = []\n",
    "#                 print(true_list,pre_list)\n",
    "                true_lists[k] += true_list\n",
    "                pre_lists[k] += pre_list\n",
    "#                 print(k)\n",
    "                k+=1\n",
    "    with open(par2_file_path) as f:\n",
    "        num=0\n",
    "        k=0\n",
    "        for line in f:\n",
    "            num+=1\n",
    "            if num<end and num > start:\n",
    "                line = line.replace(' ','')\n",
    "                line = line.replace('|','')\n",
    "                line = line.replace('\\n','')\n",
    "                line = line.replace('][','$')\n",
    "                line = line.replace('[','$')\n",
    "                line = line.replace(']','$')\n",
    "                line = line.replace(',',' ')\n",
    "#                 print(line)\n",
    "                true_list = pattern.search(line).group().split('$')[1:3][0]\n",
    "                pre_list = pattern.search(line).group().split('$')[1:3][1]\n",
    "                true_list = true_list.split(' ')\n",
    "                pre_list = pre_list.split(' ')\n",
    "                if(true_list[0]!=''):\n",
    "                    true_list = [int(i) for i in true_list]\n",
    "                    true_list = [com2[i] for i in true_list]\n",
    "                else:\n",
    "                    true_list = []\n",
    "                if(pre_list[0]!=''):\n",
    "                    pre_list = [int(i) for i in pre_list]\n",
    "                    pre_list = [com2[i] for i in pre_list]\n",
    "                else:\n",
    "                    pre_list = []\n",
    "#                 print(true_list,pre_list)\n",
    "                true_lists[k] += true_list\n",
    "                pre_lists[k] += pre_list\n",
    "#                 print(k)\n",
    "                k+=1\n",
    "    true_mat = np.zeros([len(true_lists),24])\n",
    "    pre_mat = np.zeros([len(true_lists),24])\n",
    "    for i in range(len(true_lists)):\n",
    "        if len(true_lists[i]) > 0:\n",
    "            for j in true_lists[i]:\n",
    "                true_mat[i,j-1] = 1\n",
    "            \n",
    "    true_mat = pd.DataFrame(true_mat,columns=range(1,25),dtype='int32')\n",
    "    \n",
    "    for i in range(len(pre_lists)):\n",
    "        if len(pre_lists[i]) > 0:\n",
    "            for j in pre_lists[i]:\n",
    "                pre_mat[i,j-1] = 1\n",
    "    pre_mat = pd.DataFrame(pre_mat,columns=range(1,25),dtype='int32')\n",
    "    h_l = hamming_loss(true_mat,pre_mat)\n",
    "    e_m = get_exactMatch(true_lists,pre_lists)\n",
    "    acc = get_accuracy(true_lists,pre_lists)\n",
    "    print(count,'/',len(par0_files_path))\n",
    "    filepath = 'F:/pre/1/random/dim300/'+ ran +'/to_one/' + par0_file_path.split('\\\\')[-1]\n",
    "    f = open(filepath,'a')\n",
    "    f.write('accuracy : '+ str(acc) + '\\n')\n",
    "    f.write('exactMatch : '+ str(e_m) + '\\n')\n",
    "    f.write('hamming_loss : '+ str(h_l) + '\\n')\n",
    "    for i in range(len(true_lists)):\n",
    "        f.write(str(true_lists[i]) + '   '+ str(pre_lists[i]) + '\\n')\n",
    "    f.close()\n",
    "    count += 1"
   ]
  },
  {
   "cell_type": "code",
   "execution_count": 328,
   "metadata": {},
   "outputs": [],
   "source": [
    "# 清空txt文本内容\n",
    "# clear_path = 'F:\\\\project\\\\source_code\\\\code2\\\\file\\\\dim250\\\\to_one'\n",
    "# clear_files = os.listdir(clear_path)\n",
    "# for clear_file in clear_files:\n",
    "#     clear_file_path = clear_path + '\\\\' + clear_file\n",
    "#     f = open(clear_file_path,'w')\n",
    "#     f.close()"
   ]
  },
  {
   "cell_type": "markdown",
   "metadata": {},
   "source": [
    "### 整理得到的结果"
   ]
  },
  {
   "cell_type": "code",
   "execution_count": 174,
   "metadata": {},
   "outputs": [],
   "source": [
    "import os\n",
    "import pandas as pd"
   ]
  },
  {
   "cell_type": "code",
   "execution_count": 397,
   "metadata": {},
   "outputs": [],
   "source": [
    "path = 'F:\\\\pre\\\\1\\\\random\\\\dim300\\\\random06\\\\'\n",
    "file_paths = path + 'to_one'\n",
    "result = os.listdir(file_paths)"
   ]
  },
  {
   "cell_type": "code",
   "execution_count": 398,
   "metadata": {},
   "outputs": [],
   "source": [
    "all_list = []\n",
    "for filename in result:\n",
    "    list1 = []\n",
    "    file_path = file_paths + '\\\\' + filename\n",
    "    text = open(file_path)\n",
    "    count = 0\n",
    "    list1.append(''.join(filename.split('.')[:-1]))\n",
    "    for line in text.readlines():\n",
    "        list1.append(line.split(':')[-1][1:-2])\n",
    "        count += 1\n",
    "        if count == 3:\n",
    "            break\n",
    "    all_list.append(list1)\n",
    "\n",
    "frame = pd.DataFrame(all_list,columns=['operation','Accuracy','Exact match','hamming loss'])"
   ]
  },
  {
   "cell_type": "code",
   "execution_count": 399,
   "metadata": {
    "scrolled": true
   },
   "outputs": [
    {
     "data": {
      "text/html": [
       "<div>\n",
       "<style scoped>\n",
       "    .dataframe tbody tr th:only-of-type {\n",
       "        vertical-align: middle;\n",
       "    }\n",
       "\n",
       "    .dataframe tbody tr th {\n",
       "        vertical-align: top;\n",
       "    }\n",
       "\n",
       "    .dataframe thead th {\n",
       "        text-align: right;\n",
       "    }\n",
       "</style>\n",
       "<table border=\"1\" class=\"dataframe\">\n",
       "  <thead>\n",
       "    <tr style=\"text-align: right;\">\n",
       "      <th></th>\n",
       "      <th>operation</th>\n",
       "      <th>Accuracy</th>\n",
       "      <th>Exact match</th>\n",
       "      <th>hamming loss</th>\n",
       "    </tr>\n",
       "  </thead>\n",
       "  <tbody>\n",
       "    <tr>\n",
       "      <th>0</th>\n",
       "      <td>RAkEL_RF_-k_4_-l_100_CV10</td>\n",
       "      <td>0.543429241019165</td>\n",
       "      <td>0.2040012439100238</td>\n",
       "      <td>0.0748505580318579</td>\n",
       "    </tr>\n",
       "  </tbody>\n",
       "</table>\n",
       "</div>"
      ],
      "text/plain": [
       "                   operation           Accuracy         Exact match  \\\n",
       "0  RAkEL_RF_-k_4_-l_100_CV10  0.543429241019165  0.2040012439100238   \n",
       "\n",
       "         hamming loss  \n",
       "0  0.0748505580318579  "
      ]
     },
     "execution_count": 399,
     "metadata": {},
     "output_type": "execute_result"
    }
   ],
   "source": [
    "frame"
   ]
  },
  {
   "cell_type": "code",
   "execution_count": 400,
   "metadata": {},
   "outputs": [],
   "source": [
    "frame.to_csv(path+'分三类.csv',index = False)"
   ]
  },
  {
   "cell_type": "code",
   "execution_count": null,
   "metadata": {},
   "outputs": [],
   "source": []
  }
 ],
 "metadata": {
  "kernelspec": {
   "display_name": "Python 3",
   "language": "python",
   "name": "python3"
  },
  "language_info": {
   "codemirror_mode": {
    "name": "ipython",
    "version": 3
   },
   "file_extension": ".py",
   "mimetype": "text/x-python",
   "name": "python",
   "nbconvert_exporter": "python",
   "pygments_lexer": "ipython3",
   "version": "3.8.3"
  },
  "toc": {
   "base_numbering": 1,
   "nav_menu": {},
   "number_sections": true,
   "sideBar": true,
   "skip_h1_title": false,
   "title_cell": "Table of Contents",
   "title_sidebar": "Contents",
   "toc_cell": false,
   "toc_position": {},
   "toc_section_display": true,
   "toc_window_display": false
  },
  "varInspector": {
   "cols": {
    "lenName": 16,
    "lenType": 16,
    "lenVar": 40
   },
   "kernels_config": {
    "python": {
     "delete_cmd_postfix": "",
     "delete_cmd_prefix": "del ",
     "library": "var_list.py",
     "varRefreshCmd": "print(var_dic_list())"
    },
    "r": {
     "delete_cmd_postfix": ") ",
     "delete_cmd_prefix": "rm(",
     "library": "var_list.r",
     "varRefreshCmd": "cat(var_dic_list()) "
    }
   },
   "types_to_exclude": [
    "module",
    "function",
    "builtin_function_or_method",
    "instance",
    "_Feature"
   ],
   "window_display": false
  }
 },
 "nbformat": 4,
 "nbformat_minor": 4
}
